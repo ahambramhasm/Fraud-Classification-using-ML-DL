{
 "cells": [
  {
   "cell_type": "code",
   "execution_count": 6,
   "metadata": {},
   "outputs": [],
   "source": [
    "import pandas as pd \n",
    "import warnings\n",
    "warnings.filterwarnings('ignore')"
   ]
  },
  {
   "cell_type": "code",
   "execution_count": 7,
   "metadata": {},
   "outputs": [],
   "source": [
    "data = pd.read_excel(r\"C:\\Users\\ht2dn\\Desktop\\Casestudy\\case_study_data.xlsx\") "
   ]
  },
  {
   "cell_type": "code",
   "execution_count": 8,
   "metadata": {},
   "outputs": [],
   "source": [
    "data.checkin_acc[data.checkin_acc=='A11']=1\n",
    "data.checkin_acc[data.checkin_acc=='A12']=2\n",
    "data.checkin_acc[data.checkin_acc=='A13']=3\n",
    "data.checkin_acc[data.checkin_acc=='A14']=4\n",
    "\n",
    "data.credit_history[data.credit_history=='A30']=0\n",
    "data.credit_history[data.credit_history=='A31']=1\n",
    "data.credit_history[data.credit_history=='A32']=2\n",
    "data.credit_history[data.credit_history=='A33']=3\n",
    "data.credit_history[data.credit_history=='A34']=4\n",
    "\n",
    "data.purpose[data.purpose=='A40']=0\n",
    "data.purpose[data.purpose=='A41']=1\n",
    "data.purpose[data.purpose=='A42']=2\n",
    "data.purpose[data.purpose=='A43']=3\n",
    "data.purpose[data.purpose=='A44']=4\n",
    "data.purpose[data.purpose=='A45']=5\n",
    "data.purpose[data.purpose=='A46']=6\n",
    "data.purpose[data.purpose=='A47']=7\n",
    "data.purpose[data.purpose=='A48']=8\n",
    "data.purpose[data.purpose=='A49']=9\n",
    "data.purpose[data.purpose=='A410']=10\n",
    "\n",
    "data.svaing_acc[data.svaing_acc=='A61']=1\n",
    "data.svaing_acc[data.svaing_acc=='A62']=2\n",
    "data.svaing_acc[data.svaing_acc=='A63']=3\n",
    "data.svaing_acc[data.svaing_acc=='A64']=4\n",
    "data.svaing_acc[data.svaing_acc=='A65']=5\n",
    "\n",
    "data.present_emp_since[data.present_emp_since=='A71']=1\n",
    "data.present_emp_since[data.present_emp_since=='A72']=2\n",
    "data.present_emp_since[data.present_emp_since=='A73']=3\n",
    "data.present_emp_since[data.present_emp_since=='A74']=4\n",
    "data.present_emp_since[data.present_emp_since=='A75']=5\n",
    "\n",
    "data.personal_status[data.personal_status=='A91']=1\n",
    "data.personal_status[data.personal_status=='A92']=2\n",
    "data.personal_status[data.personal_status=='A93']=3\n",
    "data.personal_status[data.personal_status=='A94']=4\n",
    "\n",
    "data.other_debtors[data.other_debtors=='A101']=1\n",
    "data.other_debtors[data.other_debtors=='A102']=2\n",
    "data.other_debtors[data.other_debtors=='A103']=3\n",
    "\n",
    "data.property[data.property=='A121']=1\n",
    "data.property[data.property=='A122']=2\n",
    "data.property[data.property=='A123']=3\n",
    "data.property[data.property=='A124']=4\n",
    "\n",
    "data.inst_plans[data.inst_plans=='A141']=1\n",
    "data.inst_plans[data.inst_plans=='A142']=2\n",
    "data.inst_plans[data.inst_plans=='A143']=3\n",
    "\n",
    "data.housing[data.housing=='A151']=1\n",
    "data.housing[data.housing=='A152']=2\n",
    "data.housing[data.housing=='A153']=3\n",
    "\n",
    "data.job[data.job=='A171']=1\n",
    "data.job[data.job=='A172']=2\n",
    "data.job[data.job=='A173']=3\n",
    "data.job[data.job=='A174']=4\n",
    "\n",
    "data.telephone[data.telephone=='A191']=1\n",
    "data.telephone[data.telephone=='A192']=2\n",
    "\n",
    "data.foreign_worker[data.foreign_worker=='A201']=1\n",
    "data.foreign_worker[data.foreign_worker=='A202']=2\n"
   ]
  },
  {
   "cell_type": "code",
   "execution_count": 9,
   "metadata": {},
   "outputs": [
    {
     "name": "stdout",
     "output_type": "stream",
     "text": [
      "0.7233333333333334\n"
     ]
    }
   ],
   "source": [
    "data=data.iloc[1:]\n",
    "from sklearn import svm\n",
    "clf = svm.SVC(gamma='scale')\n",
    "x=data.drop('status',axis=1)\n",
    "y=data['status']\n",
    "\n",
    "\n",
    "from sklearn.preprocessing import StandardScaler\n",
    "sc_X = StandardScaler()\n",
    "x = sc_X.fit_transform(x)\n",
    "\n",
    "pd.DataFrame(x).to_excel('output.xlsx', header=False, index=False)\n",
    "\n",
    "#SPLITING the dataset into test and training set\n",
    "from sklearn.model_selection import train_test_split\n",
    "X_train, X_test, y_train, y_test = train_test_split(x, y, test_size = 0.30)\n",
    "\n",
    "#feature scaling\n",
    "\n",
    "#Logistic Regression\n",
    "from sklearn.linear_model import LogisticRegression\n",
    "classifier = LogisticRegression(random_state = 0)\n",
    "classifier.fit(X_train, y_train)\n",
    "\n",
    "\n",
    "from sklearn.metrics import accuracy_score\n",
    "\n",
    "# Predicting the test set results\n",
    "y_pred = classifier.predict(X_test)\n",
    "print (accuracy_score(y_test, y_pred))\n",
    "\n",
    "from sklearn.metrics import confusion_matrix\n",
    "cm = confusion_matrix(y_test, y_pred)"
   ]
  },
  {
   "cell_type": "code",
   "execution_count": null,
   "metadata": {},
   "outputs": [],
   "source": []
  },
  {
   "cell_type": "code",
   "execution_count": null,
   "metadata": {},
   "outputs": [],
   "source": []
  }
 ],
 "metadata": {
  "kernelspec": {
   "display_name": "Python 3",
   "language": "python",
   "name": "python3"
  },
  "language_info": {
   "codemirror_mode": {
    "name": "ipython",
    "version": 3
   },
   "file_extension": ".py",
   "mimetype": "text/x-python",
   "name": "python",
   "nbconvert_exporter": "python",
   "pygments_lexer": "ipython3",
   "version": "3.6.5"
  }
 },
 "nbformat": 4,
 "nbformat_minor": 2
}
